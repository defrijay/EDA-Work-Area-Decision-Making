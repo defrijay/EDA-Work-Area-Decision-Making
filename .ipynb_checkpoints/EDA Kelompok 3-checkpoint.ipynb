{
 "cells": [
  {
   "cell_type": "markdown",
   "metadata": {},
   "source": [
    "# Exploratory Data Analysis Untuk Membantu Pengambilan Keputusan Wilayah Bekerja Di Jawa Barat Menggunakan Dataset Pengeluaran per Kapita, UMK, Jumlah Penduduk Bekerja, Dan Garis Kemiskinan"
   ]
  },
  {
   "cell_type": "markdown",
   "metadata": {},
   "source": [
    "### Tanggal Pembuatan Awal : 24 September 2023\n",
    "### Tanggal Perbaikan : 1 Oktober 2023"
   ]
  },
  {
   "cell_type": "markdown",
   "metadata": {},
   "source": [
    "# Kelompok 3\n",
    "1. Boy Aditya Rohmaulana (2203488)\n",
    "2. Defrizal Yahdiyan Risyad (2206131)\n",
    "3. Muhamad Furqon Al-Haqqi (2207207)\n",
    "4. Raya Cahya Nurani (2205714)\n",
    "5. Septiani Eka Putri (2206000)"
   ]
  },
  {
   "cell_type": "markdown",
   "metadata": {
    "id": "OfXVxHhZctcJ"
   },
   "source": [
    "# Pendahuluan\n",
    "Sebagai seseorang yang baru atau akan memasuki dunia kerja, kita sering kali dihadapkan pada banyak pertanyaan yang membingungkan, seperti di mana kita sebaiknya bekerja, berapa gaji yang akan kita terima, dan apakah pendapatan tersebut akan mencukupi untuk kehidupan sehari-hari. Untuk membantu pekerja dalam membuat keputusan yang lebih baik, analisis ini menggunakan data dari Badan Pusat Statistik (BPS) dan Dinas Tenaga Kerja dan Transmigrasi untuk mengevaluasi pilihan tempat kerja berdasarkan faktor-faktor seperti pendapatan dan pengeluaran. Dalam konteks persaingan yang sangat ketat di dunia kerja, perencanaan yang baik sangat penting bagi pekerja agar mereka dapat merencanakan masa depan mereka dengan bijak berdasarkan pilihan yang mereka buat."
   ]
  },
  {
   "cell_type": "markdown",
   "metadata": {
    "id": "V-th9wPsdC05"
   },
   "source": [
    "# Pertanyaan\n",
    "\n",
    "\n",
    "1.   Kabupaten/Kota di Provinsi Jawa Barat dengan Upah Minimum 5 tertinggi dan 5 terendah di tahun 2023\n",
    "2.   Bagaimana tren Upah Minimum Kabupaten/Kota selama beberapa tahun terakhir?\n",
    "3.   Bagaimana korelasi antara pengeluaran per kapita, upah minimum, jumlah penduduk yang bekerja, dan angka garis kemiskinan per kapita?\n",
    "4.   Bagaimana persebaran data dari pengeluaran per kapita, upah minimum, jumlah penduduk yang bekerja, dan angka garis kemiskinan per kapita?\n",
    "\n"
   ]
  },
  {
   "cell_type": "markdown",
   "metadata": {
    "id": "wviz8VVNyTHL"
   },
   "source": [
    "# Import Libraries dan Dataset"
   ]
  },
  {
   "cell_type": "markdown",
   "metadata": {},
   "source": [
    "* **bps-od_17106_jml_pengeluaran_per_kapita__kabupatenkota_data.csv:** dataset Pengeluaran Per Kapita Per Tahun dengan disagregasi Kabupaten/Kota dan Tahun.\n",
    "  \n",
    "* **disnakertrans-od_19868_daftar_upah_minimum_kabupatenkota_di_drh_prov_jabar_data.csv:** dataset Upah Minimum dengan dengan disagregasi Kabupaten/Kota dan Tahun.\n",
    "\n",
    "\n",
    "* **disnakertrans-od_15793_jumlah_penduduk_yang_bekerja_berdasarkan_kabupatenkota_data.csv:** dataset Jumlah Penduduk yang Bekerja dengan disagregasi Kabupaten/Kota dan Tahun.\n",
    "\n",
    "\n",
    "* **bps-od_17110_angka_garis_kemiskinan_per_kapita_per_bulan__kabupaten_data.csv:** dataset Angka Garis Kemiskinan Per Kapita Per Bulan dengan disagregasi Kabupaten/Kota dan Tahun.\n",
    "\n",
    "* **bps-od_17137_nilai_inflasi_berdasarkan_tujuh_kota_data.csv:** Dataset ini berisi data nilai inflasi berdasarkan tujuh kota di Provinsi Jawa Barat dari tahun 2018 s.d. 2022. 7 Kota ini antara lain Kota Bogor, Kota Sukabumi, Kota Bandung, Kota Cirebon, Kota Bekasi, Kota Depok, dan Kota Tasikmalaya."
   ]
  },
  {
   "cell_type": "code",
   "execution_count": null,
   "metadata": {
    "id": "6EwmKyvvyAKN"
   },
   "outputs": [],
   "source": [
    "import numpy as np\n",
    "import pandas as pd\n",
    "import matplotlib.pyplot as plt\n",
    "import matplotlib.ticker as ticker\n",
    "import seaborn as sns\n",
    "\n",
    "# suppress scientific notation by setting float_format\n",
    "pd.options.display.float_format = '{:.3f}'.format\n",
    "\n",
    "ppk = pd.read_csv(\"bps-od_17106_jml_pengeluaran_per_kapita__kabupatenkota_data.csv\")\n",
    "um = pd.read_csv(\"disnakertrans-od_19868_daftar_upah_minimum_kabupatenkota_di_drh_prov_jabar_data.csv\")\n",
    "jpb = pd.read_csv(\"disnakertrans-od_15793_jumlah_penduduk_yang_bekerja_berdasarkan_kabupatenkota_data.csv\")\n",
    "gk = pd.read_csv(\"bps-od_17110_angka_garis_kemiskinan_per_kapita_per_bulan__kabupaten_data.csv\")\n",
    "inf = pd.read_csv(\"bps-od_17137_nilai_inflasi_berdasarkan_tujuh_kota_data.csv\")"
   ]
  },
  {
   "cell_type": "markdown",
   "metadata": {
    "id": "2QzC2Qloyuau"
   },
   "source": [
    "# Data Exploration"
   ]
  },
  {
   "cell_type": "markdown",
   "metadata": {},
   "source": [
    "**Mengeksplorasi dataset upah minimum**"
   ]
  },
  {
   "cell_type": "code",
   "execution_count": null,
   "metadata": {},
   "outputs": [],
   "source": [
    "um.info()"
   ]
  },
  {
   "cell_type": "code",
   "execution_count": null,
   "metadata": {
    "colab": {
     "base_uri": "https://localhost:8080/",
     "height": 206
    },
    "id": "kwhGx-zHykTf",
    "outputId": "d7601f36-bd88-45a2-e4a3-589a1a18b96c"
   },
   "outputs": [],
   "source": [
    "# 5 baris pertama dataframe upah minimum\n",
    "um.head()"
   ]
  },
  {
   "cell_type": "code",
   "execution_count": null,
   "metadata": {},
   "outputs": [],
   "source": [
    "# menghapus kolom yang tidak diperlukan\n",
    "um = um.drop(columns = [\"kode_provinsi\", \"nama_provinsi\",\"satuan\"])"
   ]
  },
  {
   "cell_type": "code",
   "execution_count": null,
   "metadata": {
    "colab": {
     "base_uri": "https://localhost:8080/",
     "height": 0
    },
    "id": "UdCYZy6v0FXJ",
    "outputId": "f279d209-32a1-490b-824d-5bac9ad24024"
   },
   "outputs": [],
   "source": [
    "# mengecek data NaN pada dataframe upah mnimum\n",
    "um.isna().sum()"
   ]
  },
  {
   "cell_type": "code",
   "execution_count": null,
   "metadata": {},
   "outputs": [],
   "source": [
    "# mengecek data zero values pada dataframe upah mnimum\n",
    "(um['besaran_upah_minimum'] == 0).sum()"
   ]
  },
  {
   "cell_type": "markdown",
   "metadata": {},
   "source": [
    "**Mengeksplorasi dataset pengeluaran per kapita**"
   ]
  },
  {
   "cell_type": "code",
   "execution_count": null,
   "metadata": {
    "colab": {
     "base_uri": "https://localhost:8080/",
     "height": 0
    },
    "id": "jg7eEhdi3Gvm",
    "outputId": "6c849c68-1bd7-4ed6-fa3e-2ec6538cad62"
   },
   "outputs": [],
   "source": [
    "ppk.info()\n"
   ]
  },
  {
   "cell_type": "code",
   "execution_count": null,
   "metadata": {
    "colab": {
     "base_uri": "https://localhost:8080/",
     "height": 206
    },
    "id": "Wg59MtnOsSH1",
    "outputId": "77f987ba-921e-4223-900c-b4d01790efbb"
   },
   "outputs": [],
   "source": [
    "# 5 baris pertama dataframe pengeluaran per kapita\n",
    "ppk.head()"
   ]
  },
  {
   "cell_type": "code",
   "execution_count": null,
   "metadata": {},
   "outputs": [],
   "source": [
    "# menghapus kolom yang tidak diperlukan\n",
    "ppk = ppk.drop(columns = [\"kode_provinsi\", \"nama_provinsi\"])"
   ]
  },
  {
   "cell_type": "code",
   "execution_count": null,
   "metadata": {},
   "outputs": [],
   "source": [
    "# mengecek data zero values pada dataframe pengeluaran per kapita\n",
    "(ppk['jumlah_pengeluaran_per_kapita'] == 0).sum()"
   ]
  },
  {
   "cell_type": "code",
   "execution_count": null,
   "metadata": {},
   "outputs": [],
   "source": [
    "# mengecek data NaN pada pengeluaran per kapita\n",
    "ppk.isna().sum()"
   ]
  },
  {
   "cell_type": "markdown",
   "metadata": {},
   "source": [
    "**Mengeksplorasi dataset jumlah penduduk bekerja**"
   ]
  },
  {
   "cell_type": "code",
   "execution_count": null,
   "metadata": {
    "colab": {
     "base_uri": "https://localhost:8080/",
     "height": 0
    },
    "id": "bRKkZV-N7bXa",
    "outputId": "33231e57-cf04-475c-ca22-335dcd18d0c1"
   },
   "outputs": [],
   "source": [
    "jpb.info()"
   ]
  },
  {
   "cell_type": "code",
   "execution_count": null,
   "metadata": {
    "colab": {
     "base_uri": "https://localhost:8080/",
     "height": 206
    },
    "id": "kQc6B6EY7Vyk",
    "outputId": "4ff9b453-76ce-457f-9e5f-e24cb5bf94fd"
   },
   "outputs": [],
   "source": [
    "# 5 baris pertama dataframe jumlah penduduk bekerja\n",
    "jpb.head()"
   ]
  },
  {
   "cell_type": "code",
   "execution_count": null,
   "metadata": {},
   "outputs": [],
   "source": [
    "# menghapus kolom yang tidak diperlukan\n",
    "jpb = jpb.drop(columns = [\"kode_provinsi\", \"nama_provinsi\"])"
   ]
  },
  {
   "cell_type": "code",
   "execution_count": null,
   "metadata": {},
   "outputs": [],
   "source": [
    "# mengganti nama kolom jumlah_penduduk menjadi jumlah_penduduk_bekerja\n",
    "jpb.rename(columns = {'jumlah_penduduk':'jumlah_penduduk_bekerja'}, inplace = True)"
   ]
  },
  {
   "cell_type": "code",
   "execution_count": null,
   "metadata": {
    "colab": {
     "base_uri": "https://localhost:8080/",
     "height": 0
    },
    "id": "H6YkDlH87hgB",
    "outputId": "51697c75-257d-49b3-8efd-143a822343b9"
   },
   "outputs": [],
   "source": [
    "# mengecek data NaN pada jumlah penduduk bekerja\n",
    "jpb.isna().sum()"
   ]
  },
  {
   "cell_type": "code",
   "execution_count": null,
   "metadata": {},
   "outputs": [],
   "source": [
    "# mengecek data zero values pada dataframe jumlah penduduk bekerja\n",
    "jpb.loc[jpb['jumlah_penduduk_bekerja'] == 0]"
   ]
  },
  {
   "cell_type": "code",
   "execution_count": null,
   "metadata": {},
   "outputs": [],
   "source": [
    "# mengisi data yang zero value dengan rata-rata\n",
    "mean = jpb['jumlah_penduduk_bekerja'].loc[jpb['nama_kabupaten_kota'] == 'KOTA BANDUNG'].mean()\n",
    "jpb['jumlah_penduduk_bekerja'] = jpb['jumlah_penduduk_bekerja'].replace(0, mean)\n",
    "print(mean)\n",
    "jpb.loc[jpb['id'] == 72]"
   ]
  },
  {
   "cell_type": "markdown",
   "metadata": {},
   "source": [
    "**Mengeksplorasi dataset garis kemiskinan**"
   ]
  },
  {
   "cell_type": "code",
   "execution_count": null,
   "metadata": {},
   "outputs": [],
   "source": [
    "gk.info()"
   ]
  },
  {
   "cell_type": "code",
   "execution_count": null,
   "metadata": {},
   "outputs": [],
   "source": [
    "# 5 baris pertama dataframe garis kemiskinan per kapita\n",
    "gk.head()"
   ]
  },
  {
   "cell_type": "markdown",
   "metadata": {},
   "source": [
    "Garis Kemiskinan (GK) mencerminkan nilai rupiah pengeluaran minimum yang diperlukan seseorang untuk memenuhi kebutuhan pokok hidupnya selama sebulan, baik kebutuhan makanan maupun non-makanan. GK terdiri dari Garis Kemiskinan Makanan (GKM) dan Garis Kemiskinan Non-Makanan (GKNM).\n",
    "\n",
    "Garis Kemiskinan Makanan (GKM) merupakan nilai pengeluaran minimum untuk kebutuhan makanan yang disetarakan dengan 2100 kilokalori per kapita per hari. Paket komoditi kebutuhan dasar makanan diwakili oleh 52 jenis komoditi (padi-padian, umbi-umbian, ikan, daging, telur dan susu, sayuran, kacang-kacangan, buah-buahan, minyak dan lemak, dll).\n",
    "\n",
    "Garis Kemiskinan Non-Makanan (GKNM) merupakan nilai pengeluaran minimum untuk kebutuhan non-makanan berupa perumahan, sandang, pendidikan dan kesehatan. Paket komoditi kebutuhan dasar non-makanan diwakili oleh 51 jenis komoditi di perkotaan dan 47 jenis komoditi di perdesaan.\n",
    "\n",
    "Garut memiliki garis kemiskinan yang rendah dari 5 teratas, itu karena jumlah penduduknya lebih kecil dibandingkan daerah yang lain, sehingga jumlah penduduk yang bekerja pun akan lebih sedikit dibandingkan daerah yang lain. Selain itu di Garut memiliki jumlah inflasi yang rendah, sehingga biaya hidup di Garut lebih kecil.\n",
    "\n",
    "Bogor memiliki garis kemiskinan yang tinggi dari 5 teratas, hal itu dikarenakan jumlah penduduknya yang padat dengan lowongan pekerjaan yang sedikit. selain itu inflasi yang terjadi di bogor lebih besar dibadingkan dengan Garut, sehingga biaya hidupnya lebih tinggi."
   ]
  },
  {
   "cell_type": "code",
   "execution_count": null,
   "metadata": {},
   "outputs": [],
   "source": [
    "# menghapus kolom yang tidak diperlukan\n",
    "gk = gk.drop(columns = [\"kode_provinsi\", \"nama_provinsi\"])"
   ]
  },
  {
   "cell_type": "code",
   "execution_count": null,
   "metadata": {},
   "outputs": [],
   "source": [
    "# mengecek data NaN pada garis kemiskinan per kapita\n",
    "gk.isna().sum()"
   ]
  },
  {
   "cell_type": "code",
   "execution_count": null,
   "metadata": {},
   "outputs": [],
   "source": [
    "# mengecek data zero values pada dataframe garis kemiskinan per kapita\n",
    "(gk['garis_kemiskinan_perkapita'] == 0).sum()\n"
   ]
  },
  {
   "cell_type": "markdown",
   "metadata": {},
   "source": [
    "**Mengekpslorasi dataset inflasi**"
   ]
  },
  {
   "cell_type": "code",
   "execution_count": null,
   "metadata": {},
   "outputs": [],
   "source": [
    "inf.info()"
   ]
  },
  {
   "cell_type": "code",
   "execution_count": null,
   "metadata": {},
   "outputs": [],
   "source": [
    "inf.head() #menampilkan 5 data baris teratas inflasi"
   ]
  },
  {
   "cell_type": "markdown",
   "metadata": {},
   "source": [
    "Bekasi menjadi kota yang menduduki inflasi tertinggi di Jawa Barat, hal ini disebabkan banyaknya penduduk yang menempati kota tersebut, sehingga menaiknya kebutuhan dikota tersebut yang menyebabkan naiknya harga barang yang dibutuhkan.\n",
    "\n",
    "Cirebon menjadi kota 5 terendah di Jawa Barat, hal ini bisa disebabkan karena lebih sedikitnya kepadatan penduduk dibandingkan Kota Bekasi sehingga baik dari harga kebutuhkan penduduk di Cirebon tidak setinggi di Bekasi."
   ]
  },
  {
   "cell_type": "code",
   "execution_count": null,
   "metadata": {},
   "outputs": [],
   "source": [
    "inf = inf.drop(columns = [\"satuan\"]) #menghapus kolom yang tidak diperlukan"
   ]
  },
  {
   "cell_type": "markdown",
   "metadata": {
    "id": "n4pP0dTwhKTp"
   },
   "source": [
    "**Menghitung rata-rata dari keempat dataset**"
   ]
  },
  {
   "cell_type": "code",
   "execution_count": null,
   "metadata": {},
   "outputs": [],
   "source": [
    "mean_ppk = ppk.groupby(['kode_kabupaten_kota', 'nama_kabupaten_kota'])['jumlah_pengeluaran_per_kapita'].mean().to_frame()\n",
    "mean_um = um.groupby(['kode_kabupaten_kota', 'nama_kabupaten_kota'])['besaran_upah_minimum'].mean().to_frame()\n",
    "mean_jpb = jpb.groupby(['kode_kabupaten_kota', 'nama_kabupaten_kota'])['jumlah_penduduk_bekerja'].mean().to_frame()\n",
    "mean_gk = gk.groupby(['kode_kabupaten_kota', 'nama_kabupaten_kota'])['garis_kemiskinan_perkapita'].mean().to_frame()"
   ]
  },
  {
   "cell_type": "markdown",
   "metadata": {},
   "source": [
    "**Menggabungkan rata-rata dari 4 dataset menjadi 1 dataframe**"
   ]
  },
  {
   "cell_type": "code",
   "execution_count": null,
   "metadata": {},
   "outputs": [],
   "source": [
    "df1 = pd.merge(mean_um, mean_jpb, how='inner', on=['kode_kabupaten_kota', 'nama_kabupaten_kota'])\n",
    "df2 = pd.merge(df1, mean_ppk, how='inner', on=['kode_kabupaten_kota', 'nama_kabupaten_kota'])\n",
    "df3 = pd.merge(df2, mean_gk, how='inner', on=['kode_kabupaten_kota', 'nama_kabupaten_kota'])\n",
    "df3.sort_values(by='besaran_upah_minimum', ascending=False)"
   ]
  },
  {
   "cell_type": "markdown",
   "metadata": {},
   "source": [
    "Karawang memiliki upah minimum tertinggi dikarenakan, sedikitnya jumlah penduduk sehingga tidak tinggi pengeluaran perkapita, ditambah karawang pun memiliki tingkat kemiskinan yang rendah membuat upah minimum yang di dapatkan lebih tinggi karena tidak tingginya inflasi yang terjadi.\n",
    "\n",
    "Banjar memiliki upah minimum terendah dapat disebabkan tidak padatnya jumlah penduduk yang ada, dan tidak banyaknya penduduk yang bekerja. Inflasi yang jerjadi pun pasti akan lebih kecil membuat pengeluaran perkapita tidak terlalu tinggi karena biaya hidupnya lebih kecil."
   ]
  },
  {
   "cell_type": "markdown",
   "metadata": {},
   "source": [
    "**Normalisasi data menggunakan Min-Max normalization**"
   ]
  },
  {
   "cell_type": "markdown",
   "metadata": {},
   "source": [
    "Melakukan normalisasi Min-Max, pada atribut rata-rata Besaran Upah Minimum, Jumlah Penduduk Bekerja, Pengeluaran per Kapita, dan Garis Kemiskinan per Kapita"
   ]
  },
  {
   "cell_type": "code",
   "execution_count": null,
   "metadata": {},
   "outputs": [],
   "source": [
    "# copy the data\n",
    "df3_min_max_scaled = df3.copy()\n",
    "  \n",
    "# apply normalization techniques\n",
    "df3_min_max_scaled['jumlah_penduduk_bekerja'] = (df3_min_max_scaled['jumlah_penduduk_bekerja'] - df3_min_max_scaled['jumlah_penduduk_bekerja'].min()) / (df3_min_max_scaled['jumlah_penduduk_bekerja'].max() - df3_min_max_scaled['jumlah_penduduk_bekerja'].min())    \n",
    "\n",
    "df3_min_max_scaled['besaran_upah_minimum'] = (df3_min_max_scaled['besaran_upah_minimum'] - df3_min_max_scaled['besaran_upah_minimum'].min()) / (df3_min_max_scaled['besaran_upah_minimum'].max() - df3_min_max_scaled['besaran_upah_minimum'].min())    \n",
    "\n",
    "df3_min_max_scaled['jumlah_pengeluaran_per_kapita'] = (df3_min_max_scaled['jumlah_pengeluaran_per_kapita'] - df3_min_max_scaled['jumlah_pengeluaran_per_kapita'].min()) / (df3_min_max_scaled['jumlah_pengeluaran_per_kapita'].max() - df3_min_max_scaled['jumlah_pengeluaran_per_kapita'].min())    \n",
    "\n",
    "df3_min_max_scaled['garis_kemiskinan_perkapita'] = (df3_min_max_scaled['garis_kemiskinan_perkapita'] - df3_min_max_scaled['garis_kemiskinan_perkapita'].min()) / (df3_min_max_scaled['garis_kemiskinan_perkapita'].max() - df3_min_max_scaled['garis_kemiskinan_perkapita'].min())    \n",
    "\n",
    "# view normalized data\n",
    "print(df3_min_max_scaled.to_string())"
   ]
  },
  {
   "cell_type": "markdown",
   "metadata": {
    "id": "byRf7JYZ0fec"
   },
   "source": [
    "# Analysis & Visualizations\n",
    "**Kabupaten/kota dengan upah 5 tertinggi dan 5 terendah tahun 2023**"
   ]
  },
  {
   "cell_type": "code",
   "execution_count": null,
   "metadata": {
    "colab": {
     "base_uri": "https://localhost:8080/",
     "height": 436
    },
    "id": "h2PqKMnB2Rsu",
    "outputId": "e930c5e3-ba35-4ca8-fb9b-42ff4ed8e6b1"
   },
   "outputs": [],
   "source": [
    "um_2023 = um[um['tahun']==2023].copy()\n",
    "um_2023_sorted = um_2023.sort_values(by='besaran_upah_minimum', ascending=True)\n",
    "\n",
    "um_tertinggi = um_2023_sorted[-5:]\n",
    "um_terendah = um_2023_sorted[:5]\n",
    "um_terendah_reversed = um_terendah[::-1]\n",
    "\n",
    "plt.figure(figsize=(18, 5))\n",
    "\n",
    "# Bar plot untuk um tertinggi\n",
    "plt.subplot(1, 2, 1)\n",
    "plt.barh(um_tertinggi['nama_kabupaten_kota'], um_tertinggi['besaran_upah_minimum'], color='salmon')\n",
    "plt.title('Besaran Upah Minimun Tertinggi 2023')\n",
    "plt.xlabel('Besaran Upah Minimun (Rp)')\n",
    "plt.ylabel('Kabupaten/Kota')\n",
    "plt.grid(True, axis='x')\n",
    "\n",
    "# Bar plot untuk um terendah\n",
    "plt.subplot(1, 2, 2)\n",
    "plt.barh(um_terendah['nama_kabupaten_kota'], um_terendah_reversed['besaran_upah_minimum'], color='skyblue')\n",
    "plt.title('Besaran Upah Minimun Terendah 2023')\n",
    "plt.xlabel('Besaran Upah Minimun (Rp)')\n",
    "plt.ylabel('Kabupaten/Kota')\n",
    "plt.grid(True, axis='x')\n",
    "\n",
    "plt.tight_layout()\n",
    "plt.show()"
   ]
  },
  {
   "cell_type": "markdown",
   "metadata": {},
   "source": [
    "## Kesimpulan\n",
    "**Kabupaten/Kota di Jawa Barat dengan Upah Minimum 5 tertinggi dan 5 terendah tahun 2023**\n",
    "* Kabupaten/Kota seperti Kabupaten Karawang, Kota Bekasi, Kabupaten Bekasi, Kota Depok, dan Kota Bogor memiliki Upah Minimum yang lebih tinggi dibandingkan dengan Kabupaten/Kota lainnya.\n",
    "* Kabupaten/Kota seperti Kabupaten Garut, Kabupaten Ciamis, Kabupaten Pangandaran, Kabupaten Kuningan, dan Kota Banjar memiliki Upah Minimum yang lebih rendah dibandingkan dengan Kabupaten/Kota lainnya."
   ]
  },
  {
   "cell_type": "markdown",
   "metadata": {},
   "source": [
    "**Tren rata-rata Upah Minimum Kabupaten/Kota beberapa tahun terakhir**"
   ]
  },
  {
   "cell_type": "code",
   "execution_count": null,
   "metadata": {
    "colab": {
     "base_uri": "https://localhost:8080/",
     "height": 496
    },
    "id": "M1t6PkYz0ikf",
    "outputId": "1283f10f-0f0a-4c04-9138-5b397ca3bedc"
   },
   "outputs": [],
   "source": [
    "um_sorted = um[um['tahun']==2023].sort_values(by='besaran_upah_minimum', ascending=True).copy()\n",
    "\n",
    "um_tertinggi = um_sorted[-5:]\n",
    "um_terendah = um_sorted[:5]\n",
    "nama_kabupaten_kota = um_tertinggi['nama_kabupaten_kota'].values.tolist() + um_terendah['nama_kabupaten_kota'].values.tolist()\n",
    "\n",
    "um_filtered = um[um['nama_kabupaten_kota'].isin(nama_kabupaten_kota)]\n",
    "\n",
    "# variabel bantu untuk menghitung mean tiap tahun\n",
    "unique_years = um['tahun'].unique()\n",
    "result_data = []\n",
    "\n",
    "# hitung mean tiap tahun\n",
    "for year in unique_years:\n",
    "    year_data = um[um['tahun'] == year]\n",
    "    mean_value = year_data['besaran_upah_minimum'].mean()\n",
    "    \n",
    "    # buat row baru\n",
    "    mean_row = {\n",
    "        'id': 190,  \n",
    "        'kode_provinsi': 999,  \n",
    "        'nama_provinsi': \"RATA-RATA\",  \n",
    "        'kode_kabupaten_kota': 999,\n",
    "        'nama_kabupaten_kota': \"RATA-RATA\",\n",
    "        'besaran_upah_minimum': mean_value,\n",
    "        'satuan': 'Rupiah',\n",
    "        'tahun': year\n",
    "    }\n",
    "    result_data.append(mean_row) # masukkan ke list terlebih dahulu\n",
    "um_rata_rata = pd.DataFrame(result_data,columns=um.columns) # ubah menjadi data frame\n",
    "um_filtered = pd.concat([um_filtered,um_rata_rata]) #gabungkan data\n",
    "\n",
    "# line chart um kab/kota 5 tertinggi dan 5 terendah tahun 2023\n",
    "plt.figure(figsize=(12,5))\n",
    "sns.lineplot(x=\"tahun\", y=\"besaran_upah_minimum\", data=um_filtered, hue='nama_kabupaten_kota')\n",
    "plt.title('Upah Minimum 10 Kabupaten/Kota (5 Upah Tertinggi dan 5 Upah Terendah)')\n",
    "plt.xlabel('Tahun')\n",
    "plt.ylabel('Upah Minimum (Rp)')\n",
    "\n",
    "# Mengatur format label tahun\n",
    "ax = plt.gca()\n",
    "formatter = ticker.ScalarFormatter()\n",
    "formatter.set_scientific(False)  # Menonaktifkan notasi ilmiah\n",
    "ax.yaxis.set_major_formatter(formatter)\n",
    "ax.xaxis.set_major_formatter(ticker.FormatStrFormatter('%d'))  # Format tahun tanpa desimal\n",
    "\n",
    "plt.legend(loc=\"center right\", framealpha=0.3)\n",
    "plt.grid(True)\n",
    "plt.show()"
   ]
  },
  {
   "cell_type": "code",
   "execution_count": null,
   "metadata": {},
   "outputs": [],
   "source": [
    "inf_gabungan = inf[inf[\"nama_kabupaten_kota\"] == \"GABUNGAN 7 KOTA\"]\n",
    "\n",
    "plt.figure(figsize=(12,5))\n",
    "sns.lineplot(x=\"tahun\", y=\"nilai_inflasi\", data=inf_gabungan)\n",
    "plt.title('Nilai Inflasi Gabungan 7 Kota Dari Tahun 2018-2022')\n",
    "plt.xlabel('Tahun')\n",
    "plt.ylabel('Nilai Inflasi')\n",
    "\n",
    "# Mengatur format label tahun\n",
    "infX = plt.gca()\n",
    "formatter = ticker.ScalarFormatter()\n",
    "formatter.set_scientific(False)  # Menonaktifkan notasi ilmiah\n",
    "infX.yaxis.set_major_formatter(formatter)\n",
    "infX.xaxis.set_major_formatter(ticker.FormatStrFormatter('%d'))  # Format tahun tanpa desimal\n",
    "\n",
    "plt.grid(True)\n",
    "plt.show()\n"
   ]
  },
  {
   "cell_type": "markdown",
   "metadata": {},
   "source": [
    "## Kesimpulan\n",
    "**2. Bagaimana tren rata-rata Upah Minimum Kabupaten/Kota selama beberapa tahun terakhir?**\n",
    "\n",
    "Upah minimum 10 Kabupaten/Kota selama beberapa tahun cenderung mengalami peningkatan dari tahun ke tahun. Sedangkan dibandingkan dengan inflasi, inflasi sempat mengalami penurunan dari pada tahun 2018-2021 namun mulai kembali naik pada tahun 2022."
   ]
  },
  {
   "cell_type": "markdown",
   "metadata": {
    "id": "mX2OH-bOg3TQ"
   },
   "source": [
    "**Korelasi dari keempat atribut**"
   ]
  },
  {
   "cell_type": "code",
   "execution_count": null,
   "metadata": {
    "colab": {
     "base_uri": "https://localhost:8080/",
     "height": 144
    },
    "id": "2aOk172T_kA3",
    "outputId": "2ab550d9-b946-4b72-8adb-f479334e6608"
   },
   "outputs": [],
   "source": [
    "df3.corr()"
   ]
  },
  {
   "cell_type": "markdown",
   "metadata": {},
   "source": [
    "**Visualisasi korelasi**"
   ]
  },
  {
   "cell_type": "code",
   "execution_count": null,
   "metadata": {},
   "outputs": [],
   "source": [
    "f = plt.figure(figsize=(8, 7))\n",
    "plt.matshow(df3.corr(), fignum=f.number)\n",
    "plt.xticks(range(df3.select_dtypes(['number']).shape[1]), df3.select_dtypes(['number']).columns, fontsize=10, rotation=45)\n",
    "plt.yticks(range(df3.select_dtypes(['number']).shape[1]), df3.select_dtypes(['number']).columns, fontsize=10)\n",
    "cb = plt.colorbar()\n",
    "cb.ax.tick_params(labelsize=10)\n",
    "plt.title('Correlation Matrix', fontsize=16);"
   ]
  },
  {
   "cell_type": "markdown",
   "metadata": {},
   "source": [
    "## Kesimpulan\n",
    "**Bagaimana korelasi antara pengeluaran per kapita, upah minimum, jumlah penduduk yang bekerja, dan angka garis kemiskinan per kapita?**\n",
    "\n",
    "Berdasarkan matriks korelasi di atas, berikut adalah kesimpulan korelasi antara atribut-atribut:\n",
    "\n",
    "* Besaran Upah Minimum memiliki korelasi positif yang kuat dengan Jumlah Penduduk yang Bekerja sebesar 0.502. Ini mengindikasikan bahwa ketika besaran upah minimum naik, jumlah penduduk yang bekerja juga cenderung meningkat.\n",
    "\n",
    "* Besaran Upah Minimum memiliki korelasi positif yang kuat dengan Jumlah Pengeluaran Per Kapita sebesar 0.611. Ini menunjukkan bahwa ketika besaran upah minimum meningkat, pengeluaran per kapita cenderung juga meningkat.\n",
    "\n",
    "* Besaran Upah Minimum memiliki korelasi positif yang kuat dengan Garis Kemiskinan Per Kapita sebesar 0.522. Ini menandakan bahwa ketika besaran upah minimum naik, garis kemiskinan per kapita juga cenderung meningkat.\n",
    "\n",
    "* Jumlah Penduduk yang Bekerja memiliki korelasi yang relatif rendah dengan Jumlah Pengeluaran Per Kapita (0.129) dan Garis Kemiskinan Per Kapita (0.013). Ini menunjukkan bahwa tidak ada hubungan kuat antara jumlah penduduk yang bekerja dengan pengeluaran per kapita atau garis kemiskinan per kapita.\n",
    "\n",
    "* Jumlah Pengeluaran Per Kapita memiliki korelasi yang kuat dengan Garis Kemiskinan Per Kapita sebesar 0.769. Ini mengindikasikan bahwa ketika pengeluaran per kapita meningkat, garis kemiskinan per kapita juga cenderung meningkat."
   ]
  },
  {
   "cell_type": "markdown",
   "metadata": {},
   "source": [
    "**Boxplot besaran upah minimum kabupaten/kota di Jawa Barat**"
   ]
  },
  {
   "cell_type": "code",
   "execution_count": null,
   "metadata": {},
   "outputs": [],
   "source": [
    "um_sorted = um.sort_values(by='besaran_upah_minimum', ascending=True)\n",
    "\n",
    "plt.figure(figsize=(10,10))\n",
    "plt.grid(True)\n",
    "sns.boxplot( x=\"besaran_upah_minimum\", y='nama_kabupaten_kota', data=um_sorted, width=0.7)\n",
    "plt.xlabel('Besaran Upah Minimum (Rp)')\n",
    "plt.show()"
   ]
  },
  {
   "cell_type": "markdown",
   "metadata": {},
   "source": [
    "Data besaran upah minimum kabupaten/kota di Jawa Barat tahun 2010 - 2023"
   ]
  },
  {
   "cell_type": "markdown",
   "metadata": {},
   "source": [
    "**Boxplot jumlah pengeluaran per kapita kabupaten/kota di Jawa Barat**"
   ]
  },
  {
   "cell_type": "code",
   "execution_count": null,
   "metadata": {},
   "outputs": [],
   "source": [
    "ppk_sorted = ppk.sort_values(by='jumlah_pengeluaran_per_kapita', ascending=True)\n",
    "\n",
    "plt.figure(figsize=(10,10))\n",
    "plt.grid(True)\n",
    "sns.boxplot( x=\"jumlah_pengeluaran_per_kapita\", y='nama_kabupaten_kota', data=ppk_sorted, width=0.7)\n",
    "plt.xlabel('Pengeluaran per kapita per tahun (Ribu Rp)')\n",
    "plt.show()"
   ]
  },
  {
   "cell_type": "markdown",
   "metadata": {},
   "source": [
    "Data  jumlah pengeluaran per kapita kabupaten/kota di Jawa Barat tahun 2010 - 2023"
   ]
  },
  {
   "cell_type": "markdown",
   "metadata": {},
   "source": [
    "**Boxplot garis kemiskinan per kapita kabupaten/kota di Jawa Barat**"
   ]
  },
  {
   "cell_type": "code",
   "execution_count": null,
   "metadata": {},
   "outputs": [],
   "source": [
    "gk_sorted = gk.sort_values(by=\"garis_kemiskinan_perkapita\", ascending=True)\n",
    "\n",
    "plt.figure(figsize=(10,10))\n",
    "plt.grid(True)\n",
    "sns.boxplot( x=\"garis_kemiskinan_perkapita\", y='nama_kabupaten_kota', data=gk_sorted, width=0.7)\n",
    "plt.xlabel('Garis kemiskinan per kapita per bulan (Rp)')\n",
    "plt.show()"
   ]
  },
  {
   "cell_type": "markdown",
   "metadata": {},
   "source": [
    "Data garis kemiskinan per kapita kabupaten/kota di Jawa Barat tahun 2010 - 2023"
   ]
  },
  {
   "cell_type": "markdown",
   "metadata": {},
   "source": [
    "**Pairplot hubungan atribut Besaran Upah Minimum, Jumlah Penduduk Bekerja, Pengeluaran per Kapita, dan Garis Kemiskinan per Kapita beserta garis regresinya**"
   ]
  },
  {
   "cell_type": "code",
   "execution_count": null,
   "metadata": {},
   "outputs": [],
   "source": [
    "sns.pairplot(data = df3_min_max_scaled, vars=['besaran_upah_minimum','jumlah_penduduk_bekerja','jumlah_pengeluaran_per_kapita', 'garis_kemiskinan_perkapita'], kind='reg')\n",
    "plt.show()"
   ]
  },
  {
   "cell_type": "markdown",
   "metadata": {},
   "source": [
    "**Perbandingan nilai normalisasi Min-Max pada atribut Besaran Upah Minimum, Jumlah Penduduk Bekerja, Pengeluaran per Kapita, dan Garis Kemiskinan per Kapita**"
   ]
  },
  {
   "cell_type": "code",
   "execution_count": null,
   "metadata": {},
   "outputs": [],
   "source": [
    "df_sorted = df3_min_max_scaled.sort_values(by='besaran_upah_minimum' , ascending=True)\n",
    "df_sorted.plot(kind='barh', figsize=(10,13), stacked=True, ylabel='Kabupaten/Kota', xlabel=\"Normalisasi Min-Max\", title='Besaran Upah Minimum, Jumlah Penduduk Bekerja, Pengeluaran per Kapita, dan Garis Kemiskinan per Kapita Kabupaten/Kota di Jawa Barat')\n",
    "plt.show()"
   ]
  },
  {
   "cell_type": "markdown",
   "metadata": {},
   "source": [
    "# Kesimpulan\n",
    "**1. Kabupaten/Kota di Jawa Barat dengan Upah Minimum 5 tertinggi dan 5 terendah tahun 2023**\n",
    "* Kabupaten/Kota seperti Kabupaten Karawang, Kota Bekasi, Kabupaten Bekasi, Kota Depok, dan Kota Bogor memiliki Upah Minimum yang lebih tinggi dibandingkan dengan Kabupaten/Kota lainnya.\n",
    "* Kabupaten/Kota seperti Kabupaten Garut, Kabupaten Ciamis, Kabupaten Pangandaran, Kabupaten Kuningan, dan Kota Banjar memiliki Upah Minimum yang lebih rendah dibandingkan dengan Kabupaten/Kota lainnya.\n",
    "   \n",
    "\n",
    "**2. Bagaimana tren rata-rata Upah Minimum Kabupaten/Kota selama beberapa tahun terakhir?**\n",
    "\n",
    "Upah minimum 10 Kabupaten/Kota selama beberapa tahun cenderung mengalami peningkatan dari tahun ke tahun.\n",
    "\n",
    "\n",
    "**3.  Bagaimana korelasi antara pengeluaran per kapita, upah minimum, jumlah penduduk yang bekerja, dan angka garis kemiskinan per kapita?**\n",
    "\n",
    "Berdasarkan matriks korelasi di atas, berikut adalah kesimpulan korelasi antara atribut-atribut:\n",
    "\n",
    "* Besaran Upah Minimum memiliki korelasi positif yang kuat dengan Jumlah Penduduk yang Bekerja sebesar 0.502. Ini mengindikasikan bahwa ketika besaran upah minimum naik, jumlah penduduk yang bekerja juga cenderung meningkat.\n",
    "\n",
    "* Besaran Upah Minimum memiliki korelasi positif yang kuat dengan Jumlah Pengeluaran Per Kapita sebesar 0.611. Ini menunjukkan bahwa ketika besaran upah minimum meningkat, pengeluaran per kapita cenderung juga meningkat.\n",
    "\n",
    "* Besaran Upah Minimum memiliki korelasi positif yang kuat dengan Garis Kemiskinan Per Kapita sebesar 0.522. Ini menandakan bahwa ketika besaran upah minimum naik, garis kemiskinan per kapita juga cenderung meningkat.\n",
    "\n",
    "* Jumlah Penduduk yang Bekerja memiliki korelasi yang relatif rendah dengan Jumlah Pengeluaran Per Kapita (0.129) dan Garis Kemiskinan Per Kapita (0.013). Ini menunjukkan bahwa tidak ada hubungan kuat antara jumlah penduduk yang bekerja dengan pengeluaran per kapita atau garis kemiskinan per kapita.\n",
    "\n",
    "* Jumlah Pengeluaran Per Kapita memiliki korelasi yang kuat dengan Garis Kemiskinan Per Kapita sebesar 0.769. Ini mengindikasikan bahwa ketika pengeluaran per kapita meningkat, garis kemiskinan per kapita juga cenderung meningkat.\n",
    "\n",
    "\n",
    "**4.   Bagaimana persebaran data dari pengeluaran per kapita, upah minimum, jumlah penduduk yang bekerja, dan angka garis kemiskinan per kapita?**\n",
    "\n",
    "Data persebaran sudah tersedia di atas dalam bentuk boxplot.\n"
   ]
  }
 ],
 "metadata": {
  "colab": {
   "provenance": []
  },
  "kernelspec": {
   "display_name": "Python 3 (ipykernel)",
   "language": "python",
   "name": "python3"
  },
  "language_info": {
   "codemirror_mode": {
    "name": "ipython",
    "version": 3
   },
   "file_extension": ".py",
   "mimetype": "text/x-python",
   "name": "python",
   "nbconvert_exporter": "python",
   "pygments_lexer": "ipython3",
   "version": "3.11.4"
  }
 },
 "nbformat": 4,
 "nbformat_minor": 1
}
